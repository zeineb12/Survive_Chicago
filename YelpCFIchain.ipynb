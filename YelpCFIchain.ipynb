{
 "cells": [
  {
   "cell_type": "markdown",
   "metadata": {},
   "source": [
    "# INTERNAL NOTEBOOK FOR GENERATING CHAIN DATASET"
   ]
  },
  {
   "cell_type": "code",
   "execution_count": null,
   "metadata": {},
   "outputs": [],
   "source": [
    "import pandas as pd"
   ]
  },
  {
   "cell_type": "code",
   "execution_count": 2,
   "metadata": {},
   "outputs": [],
   "source": [
    "# Load CFI dataset \n",
    "cfi_dataset = pd.read_pickle('datasets/cleaned_inspections.pickle')"
   ]
  },
  {
   "cell_type": "markdown",
   "metadata": {},
   "source": [
    "#### Chain flags"
   ]
  },
  {
   "cell_type": "code",
   "execution_count": 3,
   "metadata": {},
   "outputs": [],
   "source": [
    "# Load fast food restaurants dataset \n",
    "fast_foods = pd.read_csv('datasets/FastFoodRestaurants.csv')"
   ]
  },
  {
   "cell_type": "code",
   "execution_count": 4,
   "metadata": {},
   "outputs": [],
   "source": [
    "# We only keep the restaurants that appear more than once\n",
    "chain_counts = (fast_foods['name'].value_counts())\n",
    "fast_food_chains = chain_counts[chain_counts.values>1].index.tolist()"
   ]
  },
  {
   "cell_type": "code",
   "execution_count": 5,
   "metadata": {},
   "outputs": [],
   "source": [
    "additional_chains = cfi_dataset[['DBA Name', 'Address', 'Latitude', 'Longitude']].drop_duplicates().reset_index().drop('index', axis=1)\n",
    "grouped_by_dbaname = additional_chains.groupby(by=['DBA Name']).size().reset_index(name=\"Count\")\n",
    "establishments_repeted = grouped_by_dbaname[grouped_by_dbaname['Count']>1].reset_index()\n",
    "other_fast_food_chains = set(establishments_repeted['DBA Name'])"
   ]
  },
  {
   "cell_type": "code",
   "execution_count": 6,
   "metadata": {},
   "outputs": [],
   "source": [
    "# Extend the set of chain establishments in the dataset\n",
    "fast_food_chains.extend(other_fast_food_chains)\n",
    "fast_food_chains = set(fast_food_chains)"
   ]
  },
  {
   "cell_type": "code",
   "execution_count": 7,
   "metadata": {},
   "outputs": [],
   "source": [
    "# We remove the char '\\'' for simplicity, transform everything to lowercase and remove duplicates\n",
    "fast_food_chains = set([chain_name.replace(\"\\'\", \"\").lower() for chain_name in fast_food_chains])"
   ]
  },
  {
   "cell_type": "code",
   "execution_count": 8,
   "metadata": {},
   "outputs": [],
   "source": [
    "# We create a new column \"Chain flag\" for food chains\n",
    "# We fill the column with 'N' for No' and 'Y' for 'Yes' if the establishment name exists (or not exist) in the fast_food_chains\n",
    "boolean_foodchains = pd.DataFrame(cfi_dataset['DBA Name'].str.replace(\"\\'\", \"\")\\\n",
    "                                  .str.lower().isin(fast_food_chains)).rename(columns={\"DBA Name\": \"Chain flag temp\"})"
   ]
  },
  {
   "cell_type": "code",
   "execution_count": 9,
   "metadata": {},
   "outputs": [],
   "source": [
    "# Add the boolean_foodchains['Chain flag temp'] columns to the main dataset CFI as a new column: 'Chain flag'\n",
    "cfi_dataset['Chain flag'] = boolean_foodchains['Chain flag temp']"
   ]
  },
  {
   "cell_type": "markdown",
   "metadata": {},
   "source": [
    "#### Yelp"
   ]
  },
  {
   "cell_type": "code",
   "execution_count": 10,
   "metadata": {},
   "outputs": [],
   "source": [
    "yelp = pd.read_pickle('business_details.pickle')"
   ]
  },
  {
   "cell_type": "code",
   "execution_count": 11,
   "metadata": {},
   "outputs": [],
   "source": [
    "yelp['Lowercased Address'] = yelp['location.address1'].str.lower()\n",
    "yelp['Lowercased Name'] = yelp['name'].str.lower()\n",
    "\n",
    "yelp = yelp.dropna(how='all').reset_index().drop(['index'], axis = 1) "
   ]
  },
  {
   "cell_type": "code",
   "execution_count": 12,
   "metadata": {},
   "outputs": [],
   "source": [
    "# Normalizing the name and address columns in order to merge correctly\n",
    "cfi_dataset['Lowercased Name'] = cfi_dataset['DBA Name'].str.lower()\n",
    "cfi_dataset['Lowercased Address'] = cfi_dataset['Address'].str.lower()\n",
    "\n",
    "cfi_dataset['Lowercased Name'] = cfi_dataset['Lowercased Name'].astype(str).str.strip()\n",
    "cfi_dataset['Lowercased Address'] = cfi_dataset['Lowercased Address'].astype(str).str.strip()"
   ]
  },
  {
   "cell_type": "code",
   "execution_count": 13,
   "metadata": {},
   "outputs": [],
   "source": [
    "merged_cfi_yelp = cfi_dataset.merge(yelp, how='left', left_on=['Lowercased Name', 'Lowercased Address'], \n",
    "                                    right_on=['Lowercased Name', 'Lowercased Address'])"
   ]
  },
  {
   "cell_type": "code",
   "execution_count": 14,
   "metadata": {},
   "outputs": [],
   "source": [
    "# save to pickle\n",
    "merged_cfi_yelp.to_pickle('pickles/merged_cfi_yelp')"
   ]
  },
  {
   "cell_type": "code",
   "execution_count": 15,
   "metadata": {},
   "outputs": [
    {
     "data": {
      "text/plain": [
       "Index(['Inspection ID', 'DBA Name', 'AKA Name', 'License #', 'Facility Type',\n",
       "       'Risk', 'Address', 'Inspection Date', 'Inspection Type', 'Results',\n",
       "       'Violations', 'Latitude', 'Longitude', 'Location', 'Community Area',\n",
       "       'Violation Numbers', 'Violation Comments', 'Reinspections',\n",
       "       'Chain flag', 'Lowercased Name', 'Lowercased Address', 'alias',\n",
       "       'categories', 'coordinates.latitude', 'coordinates.longitude',\n",
       "       'display_phone', 'error.code', 'error.description', 'hours', 'id',\n",
       "       'image_url', 'is_claimed', 'is_closed', 'location.address1',\n",
       "       'location.address2', 'location.address3', 'location.city',\n",
       "       'location.country', 'location.cross_streets',\n",
       "       'location.display_address', 'location.state', 'location.zip_code',\n",
       "       'messaging.url', 'messaging.use_case_text', 'name', 'phone', 'photos',\n",
       "       'price', 'rating', 'review_count', 'special_hours', 'transactions',\n",
       "       'url'],\n",
       "      dtype='object')"
      ]
     },
     "execution_count": 15,
     "metadata": {},
     "output_type": "execute_result"
    }
   ],
   "source": [
    "merged_cfi_yelp.columns"
   ]
  }
 ],
 "metadata": {
  "kernelspec": {
   "display_name": "Python 3",
   "language": "python",
   "name": "python3"
  },
  "language_info": {
   "codemirror_mode": {
    "name": "ipython",
    "version": 3
   },
   "file_extension": ".py",
   "mimetype": "text/x-python",
   "name": "python",
   "nbconvert_exporter": "python",
   "pygments_lexer": "ipython3",
   "version": "3.6.9"
  }
 },
 "nbformat": 4,
 "nbformat_minor": 2
}
